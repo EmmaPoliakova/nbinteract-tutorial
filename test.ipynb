{
 "cells": [
  {
   "cell_type": "code",
   "execution_count": 1,
   "metadata": {},
   "outputs": [],
   "source": [
    "import numpy as np\n",
    "import time\n",
    "from ipycanvas import MultiCanvas, hold_canvas\n",
    "import ipywidgets as widgets\n",
    "from ipywidgets import Button, HBox, VBox, Layout\n",
    "from IPython.display import display\n",
    "import threading"
   ]
  },
  {
   "cell_type": "code",
   "execution_count": 2,
   "metadata": {},
   "outputs": [],
   "source": [
    "def draw_grid(canvas):\n",
    "    canvas.stroke_style = '#c1bcbb'\n",
    "    for x in range(1,600,10):\n",
    "        canvas.begin_path()\n",
    "        canvas.move_to(x, 0)\n",
    "        canvas.line_to(x, 500)\n",
    "        canvas.stroke()\n",
    "        \n",
    "    canvas.move_to(600, 0)\n",
    "    canvas.line_to(600, 500)\n",
    "    canvas.stroke() \n",
    "    \n",
    "        \n",
    "    for x in range(1,500,10):\n",
    "        canvas.begin_path()\n",
    "        canvas.move_to(0, x)\n",
    "        canvas.line_to(600, x)\n",
    "        canvas.stroke() \n",
    "        \n",
    "    canvas.move_to(0, 500)\n",
    "    canvas.line_to(600, 500)\n",
    "    canvas.stroke()"
   ]
  },
  {
   "cell_type": "code",
   "execution_count": 3,
   "metadata": {},
   "outputs": [],
   "source": [
    "def draw_cells(live_cells, canvas, cell_size):\n",
    "    with hold_canvas(canvas):\n",
    "        canvas.fill_style = 'black'\n",
    "        canvas.clear()\n",
    "        r = 0\n",
    "        for row in live_cells:\n",
    "            c = 0\n",
    "            for value in row:\n",
    "                if value:\n",
    "                    canvas.fill_rect(r * cell_size, c * cell_size, cell_size)\n",
    "\n",
    "                c += 1\n",
    "            r += 1\n"
   ]
  },
  {
   "cell_type": "code",
   "execution_count": 4,
   "metadata": {},
   "outputs": [],
   "source": [
    "def check_neighbours (live_cells):\n",
    "    nbrs_count = sum(np.roll(np.roll(live_cells, i, 0), j, 1)\n",
    "                     for i in (-1, 0, 1) for j in (-1, 0, 1)\n",
    "                     if (i != 0 or j != 0))\n",
    "    return (nbrs_count == 3) | (live_cells & (nbrs_count == 2))"
   ]
  },
  {
   "cell_type": "code",
   "execution_count": 5,
   "metadata": {},
   "outputs": [],
   "source": [
    "def play_game():\n",
    "    global play\n",
    "    play = True\n",
    "    global live_cells\n",
    "    global canvas\n",
    "    draw_cells(live_cells, canvas[1], 10)\n",
    "    while play:\n",
    "        live_cells = check_neighbours(live_cells)\n",
    "        draw_cells(live_cells, canvas[1], 10)\n",
    "        time.sleep(0.1)"
   ]
  },
  {
   "cell_type": "code",
   "execution_count": 6,
   "metadata": {},
   "outputs": [],
   "source": [
    "def start_game(b):\n",
    "    thread = threading.Thread(target=play_game)\n",
    "    thread.start()"
   ]
  },
  {
   "cell_type": "code",
   "execution_count": 7,
   "metadata": {},
   "outputs": [],
   "source": [
    "def pause_game(b):\n",
    "    global play \n",
    "    play = False"
   ]
  },
  {
   "cell_type": "code",
   "execution_count": 8,
   "metadata": {},
   "outputs": [],
   "source": [
    "def clear_game(b):\n",
    "    global live_cells\n",
    "    global canvas\n",
    "    global play\n",
    "    play = False\n",
    "    canvas[1].clear()\n",
    "    live_cells = np.zeros((60, 50), dtype=bool)"
   ]
  },
  {
   "cell_type": "code",
   "execution_count": 9,
   "metadata": {},
   "outputs": [],
   "source": [
    "def on_change(selected):\n",
    "    global canvas\n",
    "    global live_cells\n",
    "    \n",
    "    live_cells = np.zeros((60, 50), dtype=bool)\n",
    "    if selected['new']==1 :\n",
    "        pulsar =\\\n",
    "        [[0,0,0,0,0,0,0,0,0,0,0,0,0,0,0,0,0],\n",
    "         [0,0,0,0,0,0,0,0,0,0,0,0,0,0,0,0,0],\n",
    "         [0,0,0,0,1,1,1,0,0,0,1,1,1,0,0,0,0],\n",
    "         [0,0,0,0,0,0,0,0,0,0,0,0,0,0,0,0,0],\n",
    "         [0,0,1,0,0,0,0,1,0,1,0,0,0,0,1,0,0],\n",
    "         [0,0,1,0,0,0,0,1,0,1,0,0,0,0,1,0,0],\n",
    "         [0,0,1,0,0,0,0,1,0,1,0,0,0,0,1,0,0],\n",
    "         [0,0,0,0,1,1,1,0,0,0,1,1,1,0,0,0,0],\n",
    "         [0,0,0,0,0,0,0,0,0,0,0,0,0,0,0,0,0],\n",
    "         [0,0,0,0,1,1,1,0,0,0,1,1,1,0,0,0,0],\n",
    "         [0,0,1,0,0,0,0,1,0,1,0,0,0,0,1,0,0],\n",
    "         [0,0,1,0,0,0,0,1,0,1,0,0,0,0,1,0,0],\n",
    "         [0,0,1,0,0,0,0,1,0,1,0,0,0,0,1,0,0],\n",
    "         [0,0,0,0,0,0,0,0,0,0,0,0,0,0,0,0,0],\n",
    "         [0,0,0,0,1,1,1,0,0,0,1,1,1,0,0,0,0],\n",
    "         [0,0,0,0,0,0,0,0,0,0,0,0,0,0,0,0,0],\n",
    "         [0,0,0,0,0,0,0,0,0,0,0,0,0,0,0,0,0],]\n",
    "        \n",
    "        live_cells[1:18,1:18] = pulsar\n",
    "            \n",
    "    if selected['new']==2 :\n",
    "        beacon =\\\n",
    "        [[0,0,0,0,0,0], \n",
    "         [0,1,1,0,0,0],\n",
    "         [0,1,1,0,0,0],\n",
    "         [0,0,0,1,1,0],\n",
    "         [0,0,0,1,1,0],\n",
    "         [0,0,0,0,0,0]]\n",
    "        \n",
    "        live_cells[1:7,1:7] = beacon\n",
    "        \n",
    "    if selected['new']==3 :\n",
    "        spaceship=\\\n",
    "        [[0,0,0,0,0,0,0,0,0,0,0],\n",
    "         [0,0,0,0,0,1,1,0,0,0,0],\n",
    "         [0,0,0,1,0,0,0,0,1,0,0],\n",
    "         [0,0,1,0,0,0,0,0,0,0,0],\n",
    "         [0,0,1,0,0,0,0,0,1,0,0],\n",
    "         [0,0,1,1,1,1,1,1,0,0,0],\n",
    "         [0,0,0,0,0,0,0,0,0,0,0],\n",
    "         [0,0,0,0,0,0,0,0,0,0,0],\n",
    "         [0,0,0,0,0,0,0,0,0,0,0]]\n",
    "        \n",
    "        live_cells[1:10,1:12] = spaceship\n",
    "        \n",
    "    if selected['new']==4 :\n",
    "        penta=\\\n",
    "        [[0,0,0,0,0,0,0,0,0,0,0,0,0,0,0,0,0,0],\n",
    "         [0,0,0,0,0,0,0,0,0,0,0,0,0,0,0,0,0,0],\n",
    "         [0,0,0,0,0,0,0,0,0,0,0,0,0,0,0,0,0,0],\n",
    "         [0,0,0,0,0,0,0,0,0,0,0,0,0,0,0,0,0,0],\n",
    "         [0,0,0,0,0,0,1,0,0,0,0,1,0,0,0,0,0,0],\n",
    "         [0,0,0,0,1,1,0,1,1,1,1,0,1,1,0,0,0,0],\n",
    "         [0,0,0,0,0,0,1,0,0,0,0,1,0,0,0,0,0,0],\n",
    "         [0,0,0,0,0,0,0,0,0,0,0,0,0,0,0,0,0,0],\n",
    "         [0,0,0,0,0,0,0,0,0,0,0,0,0,0,0,0,0,0],\n",
    "         [0,0,0,0,0,0,0,0,0,0,0,0,0,0,0,0,0,0],\n",
    "         [0,0,0,0,0,0,0,0,0,0,0,0,0,0,0,0,0,0]]\n",
    "        \n",
    "        live_cells[1:12,1:19] = penta\n",
    "        \n",
    "    if selected['new']==5 :\n",
    "            glider_gun =\\\n",
    "            [[0,0,0,0,0,0,0,0,0,0,0,0,0,0,0,0,0,0,0,0,0,0,0,0,1,0,0,0,0,0,0,0,0,0,0,0],\n",
    "             [0,0,0,0,0,0,0,0,0,0,0,0,0,0,0,0,0,0,0,0,0,0,1,0,1,0,0,0,0,0,0,0,0,0,0,0],\n",
    "             [0,0,0,0,0,0,0,0,0,0,0,0,1,1,0,0,0,0,0,0,1,1,0,0,0,0,0,0,0,0,0,0,0,0,1,1],\n",
    "             [0,0,0,0,0,0,0,0,0,0,0,1,0,0,0,1,0,0,0,0,1,1,0,0,0,0,0,0,0,0,0,0,0,0,1,1],\n",
    "             [1,1,0,0,0,0,0,0,0,0,1,0,0,0,0,0,1,0,0,0,1,1,0,0,0,0,0,0,0,0,0,0,0,0,0,0],\n",
    "             [1,1,0,0,0,0,0,0,0,0,1,0,0,0,1,0,1,1,0,0,0,0,1,0,1,0,0,0,0,0,0,0,0,0,0,0],\n",
    "             [0,0,0,0,0,0,0,0,0,0,1,0,0,0,0,0,1,0,0,0,0,0,0,0,1,0,0,0,0,0,0,0,0,0,0,0],\n",
    "             [0,0,0,0,0,0,0,0,0,0,0,1,0,0,0,1,0,0,0,0,0,0,0,0,0,0,0,0,0,0,0,0,0,0,0,0],\n",
    "             [0,0,0,0,0,0,0,0,0,0,0,0,1,1,0,0,0,0,0,0,0,0,0,0,0,0,0,0,0,0,0,0,0,0,0,0]]\n",
    "            \n",
    "            live_cells[1:10,1:37] = glider_gun\n",
    "                    \n",
    "    draw_cells(live_cells, canvas[1], 10)  "
   ]
  },
  {
   "cell_type": "code",
   "execution_count": 10,
   "metadata": {},
   "outputs": [],
   "source": [
    "def handle_mouse_down(x, y):\n",
    "    global canvas\n",
    "    global live_cells\n",
    "    x_coord=int(x//10)\n",
    "    y_coord=int(y//10)\n",
    "    if live_cells[x_coord, y_coord]==0:\n",
    "        canvas[1].fill_style = 'black'\n",
    "        live_cells[x_coord, y_coord]=1\n",
    "    else:\n",
    "        canvas[1].fill_style = 'white'\n",
    "        live_cells[x_coord, y_coord]=0\n",
    "    canvas[1].fill_rect( x_coord* 10, y_coord* 10, 10)"
   ]
  },
  {
   "cell_type": "code",
   "execution_count": 11,
   "metadata": {},
   "outputs": [
    {
     "data": {
      "application/vnd.jupyter.widget-view+json": {
       "model_id": "da902e58fb9842988247bd83ddab21b5",
       "version_major": 2,
       "version_minor": 0
      },
      "text/plain": [
       "HBox(children=(MultiCanvas(layout=Layout(height='500px', width='700px')), VBox(children=(Button(description='s…"
      ]
     },
     "metadata": {},
     "output_type": "display_data"
    }
   ],
   "source": [
    "live_cells = np.zeros((60, 50), dtype=bool)\n",
    "play = True\n",
    "\n",
    "start_button = Button(description=\"start\")\n",
    "stop_button = Button(description=\"stop\")\n",
    "clear_button = Button(description=\"clear\")\n",
    "select_button = widgets.Dropdown(\n",
    "    options=[('Select', 0), ('Pulsar', 1), ('Beacon', 2), ('Spaceship', 3), ('Penta-decathlon', 4),('Glider gun', 5)],\n",
    "    value = 0,\n",
    "    layout={'width': 'max-content'}\n",
    ")\n",
    "\n",
    "canvas = MultiCanvas(n_canvases=2, width=600, height=500)\n",
    "draw_grid(canvas[0])\n",
    "right_box = VBox([start_button, stop_button, clear_button, widgets.Label(value =' '), widgets.Label(value ='Patterns: '), select_button])\n",
    "HBox([canvas,right_box])"
   ]
  },
  {
   "cell_type": "code",
   "execution_count": 12,
   "metadata": {
    "scrolled": true
   },
   "outputs": [],
   "source": [
    "start_button.on_click(start_game)\n",
    "stop_button.on_click(pause_game)\n",
    "clear_button.on_click(clear_game)\n",
    "select_button.observe(on_change, names='value')\n",
    "canvas[1].on_mouse_down(handle_mouse_down)"
   ]
  },
  {
   "cell_type": "code",
   "execution_count": null,
   "metadata": {},
   "outputs": [],
   "source": []
  }
 ],
 "metadata": {
  "kernelspec": {
   "display_name": "Python 3",
   "language": "python",
   "name": "python3"
  },
  "language_info": {
   "codemirror_mode": {
    "name": "ipython",
    "version": 3
   },
   "file_extension": ".py",
   "mimetype": "text/x-python",
   "name": "python",
   "nbconvert_exporter": "python",
   "pygments_lexer": "ipython3",
   "version": "3.6.5"
  }
 },
 "nbformat": 4,
 "nbformat_minor": 4
}
