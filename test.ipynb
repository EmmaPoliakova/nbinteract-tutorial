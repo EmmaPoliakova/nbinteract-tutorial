{
 "cells": [
  {
   "cell_type": "code",
   "execution_count": 1,
   "metadata": {},
   "outputs": [],
   "source": [
    "# nbi:hide_in\n",
    "import numpy as np\n",
    "import time\n",
    "from ipycanvas import MultiCanvas, hold_canvas\n",
    "import ipywidgets as widgets\n",
    "from ipywidgets import interact, Button, HBox, VBox, Layout\n",
    "from IPython.display import display\n",
    "import threading"
   ]
  },
  {
   "cell_type": "code",
   "execution_count": 2,
   "metadata": {},
   "outputs": [],
   "source": [
    "# nbi:hide_in\n",
    "def draw_grid(canvas):\n",
    "    canvas.stroke_style = 'black'\n",
    "    for x in range(1,600,10):\n",
    "        canvas.begin_path()\n",
    "        canvas.move_to(x, 0)\n",
    "        canvas.line_to(x, 500)\n",
    "        canvas.stroke()\n",
    "        \n",
    "    canvas.move_to(600, 0)\n",
    "    canvas.line_to(600, 500)\n",
    "    canvas.stroke() \n",
    "    \n",
    "        \n",
    "    for x in range(1,500,10):\n",
    "        canvas.begin_path()\n",
    "        canvas.move_to(0, x)\n",
    "        canvas.line_to(600, x)\n",
    "        canvas.stroke() \n",
    "        \n",
    "    canvas.move_to(0, 500)\n",
    "    canvas.line_to(600, 500)\n",
    "    canvas.stroke()"
   ]
  },
  {
   "cell_type": "code",
   "execution_count": 3,
   "metadata": {},
   "outputs": [],
   "source": [
    "# nbi:hide_in\n",
    "def draw_cells(live_cells, canvas, cell_size):\n",
    "    with hold_canvas(canvas):\n",
    "        canvas.fill_style = 'black'\n",
    "        canvas.clear()\n",
    "        r = 0\n",
    "        for row in live_cells:\n",
    "            c = 0\n",
    "            for value in row:\n",
    "                if value:\n",
    "                    canvas.fill_rect(r * cell_size, c * cell_size, cell_size)\n",
    "\n",
    "                c += 1\n",
    "            r += 1\n"
   ]
  },
  {
   "cell_type": "code",
   "execution_count": 4,
   "metadata": {},
   "outputs": [],
   "source": [
    "# nbi:hide_in\n",
    "def check_neighbours (live_cells):\n",
    "    nbrs_count = sum(np.roll(np.roll(live_cells, i, 0), j, 1)\n",
    "                     for i in (-1, 0, 1) for j in (-1, 0, 1)\n",
    "                     if (i != 0 or j != 0))\n",
    "    return (nbrs_count == 3) | (live_cells & (nbrs_count == 2))"
   ]
  },
  {
   "cell_type": "code",
   "execution_count": 5,
   "metadata": {},
   "outputs": [],
   "source": [
    "# nbi:hide_in\n",
    "def play_game():\n",
    "    global play\n",
    "    play = True\n",
    "    global live_cells\n",
    "    global canvas\n",
    "    draw_cells(live_cells, canvas[1], 10)\n",
    "    while play:\n",
    "        live_cells = check_neighbours(live_cells)\n",
    "        draw_cells(live_cells, canvas[1], 10)\n",
    "        time.sleep(0.1)"
   ]
  },
  {
   "cell_type": "code",
   "execution_count": 21,
   "metadata": {},
   "outputs": [],
   "source": [
    "# nbi:hide_in\n",
    "def start_game(x):\n",
    "    global canvas\n",
    "    canvas\n",
    "    thread = threading.Thread(target=play_game)\n",
    "    thread.start()"
   ]
  },
  {
   "cell_type": "code",
   "execution_count": 23,
   "metadata": {},
   "outputs": [],
   "source": [
    "# nbi:hide_in\n",
    "def pause_game(y):\n",
    "    global play \n",
    "    play = False"
   ]
  },
  {
   "cell_type": "code",
   "execution_count": 24,
   "metadata": {},
   "outputs": [],
   "source": [
    "# nbi:hide_in\n",
    "def clear_game(z):\n",
    "    global live_cells\n",
    "    global canvas\n",
    "    global play\n",
    "    play = False\n",
    "    canvas[1].clear()\n",
    "    live_cells = np.zeros((60, 50), dtype=bool)"
   ]
  },
  {
   "cell_type": "code",
   "execution_count": 13,
   "metadata": {},
   "outputs": [],
   "source": [
    "# nbi:hide_in\n",
    "def on_change(selected):\n",
    "    global canvas\n",
    "    global live_cells\n",
    "    \n",
    "    live_cells = np.zeros((60, 50), dtype=bool)\n",
    "    if selected=='Pulsar':\n",
    "        pulsar =\\\n",
    "        [[0,0,0,0,0,0,0,0,0,0,0,0,0,0,0,0,0],\n",
    "         [0,0,0,0,0,0,0,0,0,0,0,0,0,0,0,0,0],\n",
    "         [0,0,0,0,1,1,1,0,0,0,1,1,1,0,0,0,0],\n",
    "         [0,0,0,0,0,0,0,0,0,0,0,0,0,0,0,0,0],\n",
    "         [0,0,1,0,0,0,0,1,0,1,0,0,0,0,1,0,0],\n",
    "         [0,0,1,0,0,0,0,1,0,1,0,0,0,0,1,0,0],\n",
    "         [0,0,1,0,0,0,0,1,0,1,0,0,0,0,1,0,0],\n",
    "         [0,0,0,0,1,1,1,0,0,0,1,1,1,0,0,0,0],\n",
    "         [0,0,0,0,0,0,0,0,0,0,0,0,0,0,0,0,0],\n",
    "         [0,0,0,0,1,1,1,0,0,0,1,1,1,0,0,0,0],\n",
    "         [0,0,1,0,0,0,0,1,0,1,0,0,0,0,1,0,0],\n",
    "         [0,0,1,0,0,0,0,1,0,1,0,0,0,0,1,0,0],\n",
    "         [0,0,1,0,0,0,0,1,0,1,0,0,0,0,1,0,0],\n",
    "         [0,0,0,0,0,0,0,0,0,0,0,0,0,0,0,0,0],\n",
    "         [0,0,0,0,1,1,1,0,0,0,1,1,1,0,0,0,0],\n",
    "         [0,0,0,0,0,0,0,0,0,0,0,0,0,0,0,0,0],\n",
    "         [0,0,0,0,0,0,0,0,0,0,0,0,0,0,0,0,0],]\n",
    "        \n",
    "        live_cells[1:18,1:18] = pulsar\n",
    "            \n",
    "    if selected=='Beacon' :\n",
    "        beacon =\\\n",
    "        [[0,0,0,0,0,0], \n",
    "         [0,1,1,0,0,0],\n",
    "         [0,1,1,0,0,0],\n",
    "         [0,0,0,1,1,0],\n",
    "         [0,0,0,1,1,0],\n",
    "         [0,0,0,0,0,0]]\n",
    "        \n",
    "        live_cells[1:7,1:7] = beacon\n",
    "        \n",
    "    if selected=='Spaceship' :\n",
    "        spaceship=\\\n",
    "        [[0,0,0,0,0,0,0,0,0,0,0],\n",
    "         [0,0,0,0,0,1,1,0,0,0,0],\n",
    "         [0,0,0,1,0,0,0,0,1,0,0],\n",
    "         [0,0,1,0,0,0,0,0,0,0,0],\n",
    "         [0,0,1,0,0,0,0,0,1,0,0],\n",
    "         [0,0,1,1,1,1,1,1,0,0,0],\n",
    "         [0,0,0,0,0,0,0,0,0,0,0],\n",
    "         [0,0,0,0,0,0,0,0,0,0,0],\n",
    "         [0,0,0,0,0,0,0,0,0,0,0]]\n",
    "        \n",
    "        live_cells[1:10,1:12] = spaceship\n",
    "        \n",
    "    if selected=='Penta-decathlon' :\n",
    "        penta=\\\n",
    "        [[0,0,0,0,0,0,0,0,0,0,0,0,0,0,0,0,0,0],\n",
    "         [0,0,0,0,0,0,0,0,0,0,0,0,0,0,0,0,0,0],\n",
    "         [0,0,0,0,0,0,0,0,0,0,0,0,0,0,0,0,0,0],\n",
    "         [0,0,0,0,0,0,0,0,0,0,0,0,0,0,0,0,0,0],\n",
    "         [0,0,0,0,0,0,1,0,0,0,0,1,0,0,0,0,0,0],\n",
    "         [0,0,0,0,1,1,0,1,1,1,1,0,1,1,0,0,0,0],\n",
    "         [0,0,0,0,0,0,1,0,0,0,0,1,0,0,0,0,0,0],\n",
    "         [0,0,0,0,0,0,0,0,0,0,0,0,0,0,0,0,0,0],\n",
    "         [0,0,0,0,0,0,0,0,0,0,0,0,0,0,0,0,0,0],\n",
    "         [0,0,0,0,0,0,0,0,0,0,0,0,0,0,0,0,0,0],\n",
    "         [0,0,0,0,0,0,0,0,0,0,0,0,0,0,0,0,0,0]]\n",
    "        \n",
    "        live_cells[1:12,1:19] = penta\n",
    "        \n",
    "    if selected=='Glider gun' :\n",
    "            glider_gun =\\\n",
    "            [[0,0,0,0,0,0,0,0,0,0,0,0,0,0,0,0,0,0,0,0,0,0,0,0,1,0,0,0,0,0,0,0,0,0,0,0],\n",
    "             [0,0,0,0,0,0,0,0,0,0,0,0,0,0,0,0,0,0,0,0,0,0,1,0,1,0,0,0,0,0,0,0,0,0,0,0],\n",
    "             [0,0,0,0,0,0,0,0,0,0,0,0,1,1,0,0,0,0,0,0,1,1,0,0,0,0,0,0,0,0,0,0,0,0,1,1],\n",
    "             [0,0,0,0,0,0,0,0,0,0,0,1,0,0,0,1,0,0,0,0,1,1,0,0,0,0,0,0,0,0,0,0,0,0,1,1],\n",
    "             [1,1,0,0,0,0,0,0,0,0,1,0,0,0,0,0,1,0,0,0,1,1,0,0,0,0,0,0,0,0,0,0,0,0,0,0],\n",
    "             [1,1,0,0,0,0,0,0,0,0,1,0,0,0,1,0,1,1,0,0,0,0,1,0,1,0,0,0,0,0,0,0,0,0,0,0],\n",
    "             [0,0,0,0,0,0,0,0,0,0,1,0,0,0,0,0,1,0,0,0,0,0,0,0,1,0,0,0,0,0,0,0,0,0,0,0],\n",
    "             [0,0,0,0,0,0,0,0,0,0,0,1,0,0,0,1,0,0,0,0,0,0,0,0,0,0,0,0,0,0,0,0,0,0,0,0],\n",
    "             [0,0,0,0,0,0,0,0,0,0,0,0,1,1,0,0,0,0,0,0,0,0,0,0,0,0,0,0,0,0,0,0,0,0,0,0]]\n",
    "            \n",
    "            live_cells[1:10,1:37] = glider_gun\n",
    "                    \n",
    "    draw_cells(live_cells, canvas[1], 10)  "
   ]
  },
  {
   "cell_type": "code",
   "execution_count": 14,
   "metadata": {},
   "outputs": [],
   "source": [
    "# nbi:hide_in\n",
    "def handle_mouse_down(x, y):\n",
    "    global canvas\n",
    "    global live_cells\n",
    "    x_coord=int(x//10)\n",
    "    y_coord=int(y//10)\n",
    "    if live_cells[x_coord, y_coord]==0:\n",
    "        canvas[1].fill_style = 'black'\n",
    "        live_cells[x_coord, y_coord]=1\n",
    "    else:\n",
    "        canvas[1].fill_style = 'white'\n",
    "        live_cells[x_coord, y_coord]=0\n",
    "    canvas[1].fill_rect( x_coord* 10, y_coord* 10, 10)"
   ]
  },
  {
   "cell_type": "code",
   "execution_count": 15,
   "metadata": {},
   "outputs": [
    {
     "data": {
      "application/vnd.jupyter.widget-view+json": {
       "model_id": "16605f2f8ead4d8483957d93f4a8e529",
       "version_major": 2,
       "version_minor": 0
      },
      "text/plain": [
       "MultiCanvas(layout=Layout(height='500px', width='700px'))"
      ]
     },
     "metadata": {},
     "output_type": "display_data"
    }
   ],
   "source": [
    "# nbi:hide_in\n",
    "live_cells = np.zeros((60, 50), dtype=bool)\n",
    "play = True\n",
    "\n",
    "start_button = Button(description=\"start\")\n",
    "stop_button = Button(description=\"stop\")\n",
    "clear_button = Button(description=\"clear\")\n",
    "select_button = widgets.Dropdown(\n",
    "    options=[('Select', 0), ('Pulsar', 1), ('Beacon', 2), ('Spaceship', 3), ('Penta-decathlon', 4),('Glider gun', 5)],\n",
    "    value = 0,\n",
    "    layout={'width': 'max-content'}\n",
    ")\n",
    "\n",
    "canvas = MultiCanvas(n_canvases=2, width=600, height=500)\n",
    "draw_grid(canvas[0])\n",
    "canvas\n"
   ]
  },
  {
   "cell_type": "code",
   "execution_count": 26,
   "metadata": {
    "scrolled": true
   },
   "outputs": [
    {
     "data": {
      "application/vnd.jupyter.widget-view+json": {
       "model_id": "b7c01a68c9de428dafa4e825e20cd689",
       "version_major": 2,
       "version_minor": 0
      },
      "text/plain": [
       "interactive(children=(Checkbox(value=False, description='x'), Output()), _dom_classes=('widget-interact',))"
      ]
     },
     "metadata": {},
     "output_type": "display_data"
    },
    {
     "data": {
      "application/vnd.jupyter.widget-view+json": {
       "model_id": "136feda00c8240f8b8ecfa0f28e152ad",
       "version_major": 2,
       "version_minor": 0
      },
      "text/plain": [
       "interactive(children=(Checkbox(value=False, description='y'), Output()), _dom_classes=('widget-interact',))"
      ]
     },
     "metadata": {},
     "output_type": "display_data"
    },
    {
     "data": {
      "application/vnd.jupyter.widget-view+json": {
       "model_id": "1b8742932920439eab0c8ee932da37f5",
       "version_major": 2,
       "version_minor": 0
      },
      "text/plain": [
       "interactive(children=(Checkbox(value=False, description='z'), Output()), _dom_classes=('widget-interact',))"
      ]
     },
     "metadata": {},
     "output_type": "display_data"
    },
    {
     "data": {
      "application/vnd.jupyter.widget-view+json": {
       "model_id": "27cef4020a54487a8a1c563b099d29c0",
       "version_major": 2,
       "version_minor": 0
      },
      "text/plain": [
       "interactive(children=(Dropdown(description='selected', options=('Select', 'Pulsar', 'Beacon', 'Spaceship', 'Pe…"
      ]
     },
     "metadata": {},
     "output_type": "display_data"
    },
    {
     "data": {
      "text/plain": [
       "<function __main__.on_change(selected)>"
      ]
     },
     "execution_count": 26,
     "metadata": {},
     "output_type": "execute_result"
    }
   ],
   "source": [
    "# nbi:hide_in\n",
    "interact(start_game, x=False)\n",
    "interact(pause_game, y=False)\n",
    "interact(clear_game, z=False)\n",
    "interact(on_change, selected=['Select','Pulsar', 'Beacon', 'Spaceship', 'Penta-decathlon','Glider gun'])\n"
   ]
  },
  {
   "cell_type": "code",
   "execution_count": null,
   "metadata": {},
   "outputs": [],
   "source": []
  }
 ],
 "metadata": {
  "kernelspec": {
   "display_name": "Python 3",
   "language": "python",
   "name": "python3"
  },
  "language_info": {
   "codemirror_mode": {
    "name": "ipython",
    "version": 3
   },
   "file_extension": ".py",
   "mimetype": "text/x-python",
   "name": "python",
   "nbconvert_exporter": "python",
   "pygments_lexer": "ipython3",
   "version": "3.6.5"
  }
 },
 "nbformat": 4,
 "nbformat_minor": 4
}
