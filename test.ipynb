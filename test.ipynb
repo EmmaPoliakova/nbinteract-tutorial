{
 "cells": [
  {
   "cell_type": "code",
   "execution_count": 13,
   "metadata": {},
   "outputs": [],
   "source": [
    "# nbi:hide_in\n",
    "import numpy as np\n",
    "import time\n",
    "from ipycanvas import MultiCanvas, hold_canvas\n",
    "import ipywidgets as widgets\n",
    "from ipywidgets import Button, HBox, VBox, Layout\n",
    "from IPython.display import display\n",
    "import threading"
   ]
  },
  {
   "cell_type": "code",
   "execution_count": 14,
   "metadata": {},
   "outputs": [],
   "source": [
    "# nbi:hide_in\n",
    "def draw_grid(canvas):\n",
    "    canvas.stroke_style = 'black'\n",
    "    for x in range(1,600,10):\n",
    "        canvas.begin_path()\n",
    "        canvas.move_to(x, 0)\n",
    "        canvas.line_to(x, 500)\n",
    "        canvas.stroke()\n",
    "        \n",
    "    canvas.move_to(600, 0)\n",
    "    canvas.line_to(600, 500)\n",
    "    canvas.stroke() \n",
    "    \n",
    "        \n",
    "    for x in range(1,500,10):\n",
    "        canvas.begin_path()\n",
    "        canvas.move_to(0, x)\n",
    "        canvas.line_to(600, x)\n",
    "        canvas.stroke() \n",
    "        \n",
    "    canvas.move_to(0, 500)\n",
    "    canvas.line_to(600, 500)\n",
    "    canvas.stroke()"
   ]
  },
  {
   "cell_type": "code",
   "execution_count": 15,
   "metadata": {},
   "outputs": [],
   "source": [
    "# nbi:hide_in\n",
    "def draw_cells(live_cells, canvas, cell_size):\n",
    "    with hold_canvas(canvas):\n",
    "        canvas.fill_style = 'black'\n",
    "        canvas.clear()\n",
    "        r = 0\n",
    "        for row in live_cells:\n",
    "            c = 0\n",
    "            for value in row:\n",
    "                if value:\n",
    "                    canvas.fill_rect(r * cell_size, c * cell_size, cell_size)\n",
    "\n",
    "                c += 1\n",
    "            r += 1\n"
   ]
  },
  {
   "cell_type": "code",
   "execution_count": 16,
   "metadata": {},
   "outputs": [],
   "source": [
    "# nbi:hide_in\n",
    "def check_neighbours (live_cells):\n",
    "    nbrs_count = sum(np.roll(np.roll(live_cells, i, 0), j, 1)\n",
    "                     for i in (-1, 0, 1) for j in (-1, 0, 1)\n",
    "                     if (i != 0 or j != 0))\n",
    "    return (nbrs_count == 3) | (live_cells & (nbrs_count == 2))"
   ]
  },
  {
   "cell_type": "code",
   "execution_count": 17,
   "metadata": {},
   "outputs": [],
   "source": [
    "# nbi:hide_in\n",
    "def play_game():\n",
    "    global play\n",
    "    play = True\n",
    "    global live_cells\n",
    "    global canvas\n",
    "    draw_cells(live_cells, canvas[1], 10)\n",
    "    while play:\n",
    "        live_cells = check_neighbours(live_cells)\n",
    "        draw_cells(live_cells, canvas[1], 10)\n",
    "        time.sleep(0.1)"
   ]
  },
  {
   "cell_type": "code",
   "execution_count": 18,
   "metadata": {},
   "outputs": [],
   "source": [
    "# nbi:hide_in\n",
    "def start_game(b):\n",
    "    thread = threading.Thread(target=play_game)\n",
    "    thread.start()"
   ]
  },
  {
   "cell_type": "code",
   "execution_count": 19,
   "metadata": {},
   "outputs": [],
   "source": [
    "# nbi:hide_in\n",
    "def pause_game(b):\n",
    "    global play \n",
    "    play = False"
   ]
  },
  {
   "cell_type": "code",
   "execution_count": 20,
   "metadata": {},
   "outputs": [],
   "source": [
    "# nbi:hide_in\n",
    "def clear_game(b):\n",
    "    global live_cells\n",
    "    global canvas\n",
    "    global play\n",
    "    play = False\n",
    "    canvas[1].clear()\n",
    "    live_cells = np.zeros((60, 50), dtype=bool)"
   ]
  },
  {
   "cell_type": "code",
   "execution_count": 21,
   "metadata": {},
   "outputs": [],
   "source": [
    "# nbi:hide_in\n",
    "def on_change(selected):\n",
    "    global canvas\n",
    "    global live_cells\n",
    "    \n",
    "    live_cells = np.zeros((60, 50), dtype=bool)\n",
    "    if selected['new']==1 :\n",
    "        pulsar =\\\n",
    "        [[0,0,0,0,0,0,0,0,0,0,0,0,0,0,0,0,0],\n",
    "         [0,0,0,0,0,0,0,0,0,0,0,0,0,0,0,0,0],\n",
    "         [0,0,0,0,1,1,1,0,0,0,1,1,1,0,0,0,0],\n",
    "         [0,0,0,0,0,0,0,0,0,0,0,0,0,0,0,0,0],\n",
    "         [0,0,1,0,0,0,0,1,0,1,0,0,0,0,1,0,0],\n",
    "         [0,0,1,0,0,0,0,1,0,1,0,0,0,0,1,0,0],\n",
    "         [0,0,1,0,0,0,0,1,0,1,0,0,0,0,1,0,0],\n",
    "         [0,0,0,0,1,1,1,0,0,0,1,1,1,0,0,0,0],\n",
    "         [0,0,0,0,0,0,0,0,0,0,0,0,0,0,0,0,0],\n",
    "         [0,0,0,0,1,1,1,0,0,0,1,1,1,0,0,0,0],\n",
    "         [0,0,1,0,0,0,0,1,0,1,0,0,0,0,1,0,0],\n",
    "         [0,0,1,0,0,0,0,1,0,1,0,0,0,0,1,0,0],\n",
    "         [0,0,1,0,0,0,0,1,0,1,0,0,0,0,1,0,0],\n",
    "         [0,0,0,0,0,0,0,0,0,0,0,0,0,0,0,0,0],\n",
    "         [0,0,0,0,1,1,1,0,0,0,1,1,1,0,0,0,0],\n",
    "         [0,0,0,0,0,0,0,0,0,0,0,0,0,0,0,0,0],\n",
    "         [0,0,0,0,0,0,0,0,0,0,0,0,0,0,0,0,0],]\n",
    "        \n",
    "        live_cells[1:18,1:18] = pulsar\n",
    "            \n",
    "    if selected['new']==2 :\n",
    "        beacon =\\\n",
    "        [[0,0,0,0,0,0], \n",
    "         [0,1,1,0,0,0],\n",
    "         [0,1,1,0,0,0],\n",
    "         [0,0,0,1,1,0],\n",
    "         [0,0,0,1,1,0],\n",
    "         [0,0,0,0,0,0]]\n",
    "        \n",
    "        live_cells[1:7,1:7] = beacon\n",
    "        \n",
    "    if selected['new']==3 :\n",
    "        spaceship=\\\n",
    "        [[0,0,0,0,0,0,0,0,0,0,0],\n",
    "         [0,0,0,0,0,1,1,0,0,0,0],\n",
    "         [0,0,0,1,0,0,0,0,1,0,0],\n",
    "         [0,0,1,0,0,0,0,0,0,0,0],\n",
    "         [0,0,1,0,0,0,0,0,1,0,0],\n",
    "         [0,0,1,1,1,1,1,1,0,0,0],\n",
    "         [0,0,0,0,0,0,0,0,0,0,0],\n",
    "         [0,0,0,0,0,0,0,0,0,0,0],\n",
    "         [0,0,0,0,0,0,0,0,0,0,0]]\n",
    "        \n",
    "        live_cells[1:10,1:12] = spaceship\n",
    "        \n",
    "    if selected['new']==4 :\n",
    "        penta=\\\n",
    "        [[0,0,0,0,0,0,0,0,0,0,0,0,0,0,0,0,0,0],\n",
    "         [0,0,0,0,0,0,0,0,0,0,0,0,0,0,0,0,0,0],\n",
    "         [0,0,0,0,0,0,0,0,0,0,0,0,0,0,0,0,0,0],\n",
    "         [0,0,0,0,0,0,0,0,0,0,0,0,0,0,0,0,0,0],\n",
    "         [0,0,0,0,0,0,1,0,0,0,0,1,0,0,0,0,0,0],\n",
    "         [0,0,0,0,1,1,0,1,1,1,1,0,1,1,0,0,0,0],\n",
    "         [0,0,0,0,0,0,1,0,0,0,0,1,0,0,0,0,0,0],\n",
    "         [0,0,0,0,0,0,0,0,0,0,0,0,0,0,0,0,0,0],\n",
    "         [0,0,0,0,0,0,0,0,0,0,0,0,0,0,0,0,0,0],\n",
    "         [0,0,0,0,0,0,0,0,0,0,0,0,0,0,0,0,0,0],\n",
    "         [0,0,0,0,0,0,0,0,0,0,0,0,0,0,0,0,0,0]]\n",
    "        \n",
    "        live_cells[1:12,1:19] = penta\n",
    "        \n",
    "    if selected['new']==5 :\n",
    "            glider_gun =\\\n",
    "            [[0,0,0,0,0,0,0,0,0,0,0,0,0,0,0,0,0,0,0,0,0,0,0,0,1,0,0,0,0,0,0,0,0,0,0,0],\n",
    "             [0,0,0,0,0,0,0,0,0,0,0,0,0,0,0,0,0,0,0,0,0,0,1,0,1,0,0,0,0,0,0,0,0,0,0,0],\n",
    "             [0,0,0,0,0,0,0,0,0,0,0,0,1,1,0,0,0,0,0,0,1,1,0,0,0,0,0,0,0,0,0,0,0,0,1,1],\n",
    "             [0,0,0,0,0,0,0,0,0,0,0,1,0,0,0,1,0,0,0,0,1,1,0,0,0,0,0,0,0,0,0,0,0,0,1,1],\n",
    "             [1,1,0,0,0,0,0,0,0,0,1,0,0,0,0,0,1,0,0,0,1,1,0,0,0,0,0,0,0,0,0,0,0,0,0,0],\n",
    "             [1,1,0,0,0,0,0,0,0,0,1,0,0,0,1,0,1,1,0,0,0,0,1,0,1,0,0,0,0,0,0,0,0,0,0,0],\n",
    "             [0,0,0,0,0,0,0,0,0,0,1,0,0,0,0,0,1,0,0,0,0,0,0,0,1,0,0,0,0,0,0,0,0,0,0,0],\n",
    "             [0,0,0,0,0,0,0,0,0,0,0,1,0,0,0,1,0,0,0,0,0,0,0,0,0,0,0,0,0,0,0,0,0,0,0,0],\n",
    "             [0,0,0,0,0,0,0,0,0,0,0,0,1,1,0,0,0,0,0,0,0,0,0,0,0,0,0,0,0,0,0,0,0,0,0,0]]\n",
    "            \n",
    "            live_cells[1:10,1:37] = glider_gun\n",
    "                    \n",
    "    draw_cells(live_cells, canvas[1], 10)  "
   ]
  },
  {
   "cell_type": "code",
   "execution_count": 22,
   "metadata": {},
   "outputs": [],
   "source": [
    "# nbi:hide_in\n",
    "def handle_mouse_down(x, y):\n",
    "    global canvas\n",
    "    global live_cells\n",
    "    x_coord=int(x//10)\n",
    "    y_coord=int(y//10)\n",
    "    if live_cells[x_coord, y_coord]==0:\n",
    "        canvas[1].fill_style = 'black'\n",
    "        live_cells[x_coord, y_coord]=1\n",
    "    else:\n",
    "        canvas[1].fill_style = 'white'\n",
    "        live_cells[x_coord, y_coord]=0\n",
    "    canvas[1].fill_rect( x_coord* 10, y_coord* 10, 10)"
   ]
  },
  {
   "cell_type": "code",
   "execution_count": 23,
   "metadata": {},
   "outputs": [
    {
     "data": {
      "application/vnd.jupyter.widget-view+json": {
       "model_id": "893b74cb6774417884121f6866869710",
       "version_major": 2,
       "version_minor": 0
      },
      "text/plain": [
       "HBox(children=(MultiCanvas(layout=Layout(height='500px', width='700px')), VBox(children=(Button(description='s…"
      ]
     },
     "metadata": {},
     "output_type": "display_data"
    }
   ],
   "source": [
    "# nbi:hide_in\n",
    "live_cells = np.zeros((60, 50), dtype=bool)\n",
    "play = True\n",
    "\n",
    "start_button = Button(description=\"start\")\n",
    "stop_button = Button(description=\"stop\")\n",
    "clear_button = Button(description=\"clear\")\n",
    "select_button = widgets.Dropdown(\n",
    "    options=[('Select', 0), ('Pulsar', 1), ('Beacon', 2), ('Spaceship', 3), ('Penta-decathlon', 4),('Glider gun', 5)],\n",
    "    value = 0,\n",
    "    layout={'width': 'max-content'}\n",
    ")\n",
    "\n",
    "canvas = MultiCanvas(n_canvases=2, width=600, height=500)\n",
    "draw_grid(canvas[0])\n",
    "right_box = VBox([start_button, stop_button, clear_button, widgets.Label(value =' '), widgets.Label(value ='Patterns: '), select_button])\n",
    "HBox([canvas,right_box])"
   ]
  },
  {
   "cell_type": "code",
   "execution_count": 24,
   "metadata": {
    "scrolled": true
   },
   "outputs": [
    {
     "ename": "AttributeError",
     "evalue": "'Canvas' object has no attribute 'on_mouse_down'",
     "output_type": "error",
     "traceback": [
      "\u001b[1;31m---------------------------------------------------------------------------\u001b[0m",
      "\u001b[1;31mAttributeError\u001b[0m                            Traceback (most recent call last)",
      "\u001b[1;32m<ipython-input-24-bbc4055f5f87>\u001b[0m in \u001b[0;36m<module>\u001b[1;34m\u001b[0m\n\u001b[0;32m      3\u001b[0m \u001b[0mclear_button\u001b[0m\u001b[1;33m.\u001b[0m\u001b[0mon_click\u001b[0m\u001b[1;33m(\u001b[0m\u001b[0mclear_game\u001b[0m\u001b[1;33m)\u001b[0m\u001b[1;33m\u001b[0m\u001b[0m\n\u001b[0;32m      4\u001b[0m \u001b[0mselect_button\u001b[0m\u001b[1;33m.\u001b[0m\u001b[0mobserve\u001b[0m\u001b[1;33m(\u001b[0m\u001b[0mon_change\u001b[0m\u001b[1;33m,\u001b[0m \u001b[0mnames\u001b[0m\u001b[1;33m=\u001b[0m\u001b[1;34m'value'\u001b[0m\u001b[1;33m)\u001b[0m\u001b[1;33m\u001b[0m\u001b[0m\n\u001b[1;32m----> 5\u001b[1;33m \u001b[0mcanvas\u001b[0m\u001b[1;33m[\u001b[0m\u001b[1;36m1\u001b[0m\u001b[1;33m]\u001b[0m\u001b[1;33m.\u001b[0m\u001b[0mon_mouse_down\u001b[0m\u001b[1;33m(\u001b[0m\u001b[0mhandle_mouse_down\u001b[0m\u001b[1;33m)\u001b[0m\u001b[1;33m\u001b[0m\u001b[0m\n\u001b[0m",
      "\u001b[1;31mAttributeError\u001b[0m: 'Canvas' object has no attribute 'on_mouse_down'"
     ]
    }
   ],
   "source": [
    "# nbi:hide_in\n",
    "start_button.on_click(start_game)\n",
    "stop_button.on_click(pause_game)\n",
    "clear_button.on_click(clear_game)\n",
    "select_button.observe(on_change, names='value')\n",
    "canvas[1].on_mouse_down(handle_mouse_down)"
   ]
  },
  {
   "cell_type": "code",
   "execution_count": null,
   "metadata": {},
   "outputs": [],
   "source": []
  }
 ],
 "metadata": {
  "kernelspec": {
   "display_name": "Python 3",
   "language": "python",
   "name": "python3"
  },
  "language_info": {
   "codemirror_mode": {
    "name": "ipython",
    "version": 3
   },
   "file_extension": ".py",
   "mimetype": "text/x-python",
   "name": "python",
   "nbconvert_exporter": "python",
   "pygments_lexer": "ipython3",
   "version": "3.6.5"
  },
  "widgets": {
   "application/vnd.jupyter.widget-state+json": {
    "state": {
     "083106bf463e497da752834ac2e60ec9": {
      "model_module": "@jupyter-widgets/base",
      "model_module_version": "1.2.0",
      "model_name": "LayoutModel",
      "state": {
       "height": "500px",
       "width": "700px"
      }
     },
     "0a18da0ad3b345e9862c3658f4809fb6": {
      "model_module": "@jupyter-widgets/base",
      "model_module_version": "1.2.0",
      "model_name": "LayoutModel",
      "state": {}
     },
     "1381d237633342ad96f00e20ce7bf36a": {
      "model_module": "@jupyter-widgets/controls",
      "model_module_version": "1.5.0",
      "model_name": "ButtonModel",
      "state": {
       "description": "stop",
       "layout": "IPY_MODEL_0a18da0ad3b345e9862c3658f4809fb6",
       "style": "IPY_MODEL_ce85b81de4c84cc1960a7b8d2b1110fa"
      }
     },
     "1c418b02ece94fdabe44be6e7a1077df": {
      "model_module": "@jupyter-widgets/base",
      "model_module_version": "1.2.0",
      "model_name": "LayoutModel",
      "state": {}
     },
     "2ace1cc5624443649787ec586753a0eb": {
      "model_module": "@jupyter-widgets/controls",
      "model_module_version": "1.5.0",
      "model_name": "ButtonStyleModel",
      "state": {}
     },
     "39bc5c0a84b640ad99574887bc6b0119": {
      "model_module": "ipycanvas",
      "model_module_version": "^0.3.4",
      "model_name": "MultiCanvasModel",
      "state": {
       "_canvases": [
        "IPY_MODEL_6ba8c24fcd134b92a264abbb60e657cc",
        "IPY_MODEL_5ba64647319d4b57afd3e5ce158e9e8a"
       ],
       "_model_module_version": "^0.3.4",
       "_view_module_version": "^0.3.4",
       "layout": "IPY_MODEL_743d6865d3fb40cd87978790c1ac2a77"
      }
     },
     "452d1adf597045cf8c5b8042f8f3c2fb": {
      "model_module": "@jupyter-widgets/controls",
      "model_module_version": "1.5.0",
      "model_name": "DescriptionStyleModel",
      "state": {
       "description_width": ""
      }
     },
     "5b2f6d1aef6145f9a279a2402e29e119": {
      "model_module": "@jupyter-widgets/base",
      "model_module_version": "1.2.0",
      "model_name": "LayoutModel",
      "state": {}
     },
     "5b93f9e6ba9043658f161239b9af657c": {
      "model_module": "@jupyter-widgets/controls",
      "model_module_version": "1.5.0",
      "model_name": "DescriptionStyleModel",
      "state": {
       "description_width": ""
      }
     },
     "5ba64647319d4b57afd3e5ce158e9e8a": {
      "model_module": "ipycanvas",
      "model_module_version": "^0.3.4",
      "model_name": "CanvasModel",
      "state": {
       "_model_module_version": "^0.3.4",
       "_view_module_version": "^0.3.4",
       "layout": "IPY_MODEL_f080eddad4534ff5a760b0108657c0c6"
      }
     },
     "5ec39b9ab0124c9e830d0b7e87c7ebee": {
      "model_module": "@jupyter-widgets/controls",
      "model_module_version": "1.5.0",
      "model_name": "ButtonModel",
      "state": {
       "description": "clear",
       "layout": "IPY_MODEL_f6f8ad0967f84d45b08b3232bda4c33b",
       "style": "IPY_MODEL_2ace1cc5624443649787ec586753a0eb"
      }
     },
     "62ebe0ab1e2a4c988383eeb50708603f": {
      "model_module": "@jupyter-widgets/controls",
      "model_module_version": "1.5.0",
      "model_name": "LabelModel",
      "state": {
       "layout": "IPY_MODEL_f16224c57f804599b5f9e8c08b9885c7",
       "style": "IPY_MODEL_5b93f9e6ba9043658f161239b9af657c",
       "value": "Patterns: "
      }
     },
     "6ba8c24fcd134b92a264abbb60e657cc": {
      "model_module": "ipycanvas",
      "model_module_version": "^0.3.4",
      "model_name": "CanvasModel",
      "state": {
       "_model_module_version": "^0.3.4",
       "_view_module_version": "^0.3.4",
       "layout": "IPY_MODEL_083106bf463e497da752834ac2e60ec9"
      }
     },
     "6d4a15a6cfe14b65b8012fa2f0282754": {
      "model_module": "@jupyter-widgets/controls",
      "model_module_version": "1.5.0",
      "model_name": "ButtonStyleModel",
      "state": {}
     },
     "743d6865d3fb40cd87978790c1ac2a77": {
      "model_module": "@jupyter-widgets/base",
      "model_module_version": "1.2.0",
      "model_name": "LayoutModel",
      "state": {
       "height": "500px",
       "width": "700px"
      }
     },
     "7fe9b39216d3438b809c60d10c18d76b": {
      "model_module": "@jupyter-widgets/base",
      "model_module_version": "1.2.0",
      "model_name": "LayoutModel",
      "state": {
       "width": "max-content"
      }
     },
     "823900f8c54e442c8489caddf7204f94": {
      "model_module": "@jupyter-widgets/controls",
      "model_module_version": "1.5.0",
      "model_name": "ButtonModel",
      "state": {
       "description": "start",
       "layout": "IPY_MODEL_1c418b02ece94fdabe44be6e7a1077df",
       "style": "IPY_MODEL_6d4a15a6cfe14b65b8012fa2f0282754"
      }
     },
     "83f9444d175e49b98878c82cafc9ab09": {
      "model_module": "@jupyter-widgets/controls",
      "model_module_version": "1.5.0",
      "model_name": "DescriptionStyleModel",
      "state": {
       "description_width": ""
      }
     },
     "a6800baa02094562bead641a474ad857": {
      "model_module": "@jupyter-widgets/controls",
      "model_module_version": "1.5.0",
      "model_name": "LabelModel",
      "state": {
       "layout": "IPY_MODEL_5b2f6d1aef6145f9a279a2402e29e119",
       "style": "IPY_MODEL_83f9444d175e49b98878c82cafc9ab09",
       "value": " "
      }
     },
     "c952c6703b55419e8ce8f676fe0b1cba": {
      "model_module": "@jupyter-widgets/controls",
      "model_module_version": "1.5.0",
      "model_name": "VBoxModel",
      "state": {
       "children": [
        "IPY_MODEL_823900f8c54e442c8489caddf7204f94",
        "IPY_MODEL_1381d237633342ad96f00e20ce7bf36a",
        "IPY_MODEL_5ec39b9ab0124c9e830d0b7e87c7ebee",
        "IPY_MODEL_a6800baa02094562bead641a474ad857",
        "IPY_MODEL_62ebe0ab1e2a4c988383eeb50708603f",
        "IPY_MODEL_e2ec0a632f3e4e4695cbb1ef2f8f7fa1"
       ],
       "layout": "IPY_MODEL_d85c3a0b490f4ec881199948ee3b242f"
      }
     },
     "ce85b81de4c84cc1960a7b8d2b1110fa": {
      "model_module": "@jupyter-widgets/controls",
      "model_module_version": "1.5.0",
      "model_name": "ButtonStyleModel",
      "state": {}
     },
     "d85c3a0b490f4ec881199948ee3b242f": {
      "model_module": "@jupyter-widgets/base",
      "model_module_version": "1.2.0",
      "model_name": "LayoutModel",
      "state": {}
     },
     "da902e58fb9842988247bd83ddab21b5": {
      "model_module": "@jupyter-widgets/controls",
      "model_module_version": "1.5.0",
      "model_name": "HBoxModel",
      "state": {
       "children": [
        "IPY_MODEL_39bc5c0a84b640ad99574887bc6b0119",
        "IPY_MODEL_c952c6703b55419e8ce8f676fe0b1cba"
       ],
       "layout": "IPY_MODEL_f555e66bb6f84a03af5e98ed3acfec9d"
      }
     },
     "e2ec0a632f3e4e4695cbb1ef2f8f7fa1": {
      "model_module": "@jupyter-widgets/controls",
      "model_module_version": "1.5.0",
      "model_name": "DropdownModel",
      "state": {
       "_options_labels": [
        "Select",
        "Pulsar",
        "Beacon",
        "Spaceship",
        "Penta-decathlon",
        "Glider gun"
       ],
       "index": 0,
       "layout": "IPY_MODEL_7fe9b39216d3438b809c60d10c18d76b",
       "style": "IPY_MODEL_452d1adf597045cf8c5b8042f8f3c2fb"
      }
     },
     "f080eddad4534ff5a760b0108657c0c6": {
      "model_module": "@jupyter-widgets/base",
      "model_module_version": "1.2.0",
      "model_name": "LayoutModel",
      "state": {
       "height": "500px",
       "width": "700px"
      }
     },
     "f16224c57f804599b5f9e8c08b9885c7": {
      "model_module": "@jupyter-widgets/base",
      "model_module_version": "1.2.0",
      "model_name": "LayoutModel",
      "state": {}
     },
     "f555e66bb6f84a03af5e98ed3acfec9d": {
      "model_module": "@jupyter-widgets/base",
      "model_module_version": "1.2.0",
      "model_name": "LayoutModel",
      "state": {}
     },
     "f6f8ad0967f84d45b08b3232bda4c33b": {
      "model_module": "@jupyter-widgets/base",
      "model_module_version": "1.2.0",
      "model_name": "LayoutModel",
      "state": {}
     }
    },
    "version_major": 2,
    "version_minor": 0
   }
  }
 },
 "nbformat": 4,
 "nbformat_minor": 4
}
